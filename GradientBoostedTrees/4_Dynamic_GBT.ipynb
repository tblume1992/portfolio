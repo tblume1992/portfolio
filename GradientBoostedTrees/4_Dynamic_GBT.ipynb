{
 "cells": [
  {
   "cell_type": "markdown",
   "metadata": {},
   "source": [
    "# Part 4: Dynamic Gradient Boosting\n",
    "### Revisiting the beta approximation\n",
    "Now that we have found a candidate function, we will use it and see how it fares against Scikit_Learn's implementation.  First, let's review what we concluded in the last notebook.  The two pictures found below illustrate our beta approximation and compares this to the learning rates we calculated."
   ]
  },
  {
   "cell_type": "code",
   "execution_count": 1,
   "metadata": {
    "collapsed": true
   },
   "outputs": [],
   "source": [
    "from sklearn.utils import resample\n",
    "import pandas as pd\n",
    "import numpy as np\n",
    "import matplotlib.pyplot as plt\n",
    "from sklearn import datasets\n",
    "from sklearn.utils import shuffle,resample\n",
    "from scipy.stats import beta\n"
   ]
  },
  {
   "cell_type": "markdown",
   "metadata": {},
   "source": [
    "![Oops Something is wrong](beta_approximation.png \"Beta Approximation\")"
   ]
  },
  {
   "cell_type": "markdown",
   "metadata": {},
   "source": [
    "![Oops Something is wrong](comparison.png \"Beta Approximation\")"
   ]
  },
  {
   "cell_type": "markdown",
   "metadata": {},
   "source": [
    "## Data Handling\n",
    "Next, let's load the data and pre-process it in the same fashion we have been throughout the GBT notebooks."
   ]
  },
  {
   "cell_type": "code",
   "execution_count": 2,
   "metadata": {
    "collapsed": true
   },
   "outputs": [],
   "source": [
    "boston = datasets.load_boston()\n",
    "X, y = shuffle(boston.data, boston.target, random_state=13)\n",
    "X = X.astype(np.float32)\n",
    "offset = int(X.shape[0] * .9)\n",
    "X_train, y_train = X[:offset], y[:offset]\n",
    "X_test, y_test = X[offset:], y[offset:]\n",
    "xi = X_train\n",
    "yi = y_train"
   ]
  },
  {
   "cell_type": "markdown",
   "metadata": {},
   "source": [
    "## Modifying Scikit-Learn's Package\n",
    "Instead of using the GBT algorithm we have been building throughout the notebooks, we have slightly modified Scikit-Learn's package to allow us to replace the learning rate with our function.  This new script has been named \"dynamic_GBT_regressor\" due to the replacement the static learning rate with a dynamic function.  The remainder of the script is identical to Scikit-Learn's, this allows us to call the same functions.  The script is available in the porfolio on GitHub.  "
   ]
  },
  {
   "cell_type": "markdown",
   "metadata": {},
   "source": [
    "### Model Comparison\n",
    "The cell below runs the dynamic GBT script with settings that are identical to Scikit-Learn's. Note: The default of this script is to use a learning rate of 0.01. "
   ]
  },
  {
   "cell_type": "code",
   "execution_count": 3,
   "metadata": {
    "collapsed": true
   },
   "outputs": [],
   "source": [
    "import dynamic_GBT_regressor as dgbt\n",
    "rnd_reg = dgbt.GradientBoostingRegressor(max_depth=2,\n",
    "                                    n_estimators=5000,\n",
    "                                    subsample = .9)\n",
    "rnd_reg.fit(X_train,y_train)\n",
    "predictions = rnd_reg.predict(X_test)\n",
    "dynamic_test_score = np.zeros((5000,), dtype=np.float64)\n",
    "\n",
    "for i, y_pred in enumerate(rnd_reg.staged_predict(X_test)):\n",
    "    dynamic_test_score[i] = (np.mean((y_test - y_pred)**2))"
   ]
  },
  {
   "cell_type": "markdown",
   "metadata": {},
   "source": [
    "Now that we have run our model, we need to compare this to Scikit-Learn's to illustrate that they are indeed performing the same operations.  The graph below shows both model's performance on the Test Set.  Clearly, they are identical models."
   ]
  },
  {
   "cell_type": "code",
   "execution_count": 4,
   "metadata": {},
   "outputs": [
    {
     "data": {
      "image/png": "[encoded data removed]",
      "text/plain": [
       "<matplotlib.figure.Figure at 0x1e02079fac8>"
      ]
     },
     "metadata": {},
     "output_type": "display_data"
    }
   ],
   "source": [
    "from sklearn.ensemble import GradientBoostingRegressor\n",
    "n_est = 5000\n",
    "rnd_reg = GradientBoostingRegressor(max_depth=2,\n",
    "                                    n_estimators=n_est,\n",
    "                                    subsample = .9,\n",
    "                                    learning_rate=.01)\n",
    "rnd_reg.fit(X_train,y_train)\n",
    "predictions = rnd_reg.predict(X_test)\n",
    "test_score = np.zeros((n_est,), dtype=np.float64)\n",
    "\n",
    "for i, y_pred in enumerate(rnd_reg.staged_predict(X_test)):\n",
    "    test_score[i] = (np.mean((y_test - y_pred)**2))\n",
    "\n",
    "    \n",
    "\n",
    "plt.plot(test_score, label = \"Sklearn's Stochastic GBT\", color = 'red')\n",
    "plt.plot(dynamic_test_score, label = 'Dynamic GBT',\n",
    "         color = 'blue', linestyle = 'dashed')\n",
    "plt.xlim(0,5000)\n",
    "plt.legend()\n",
    "plt.title('Test Set MSE')\n",
    "plt.show()"
   ]
  },
  {
   "cell_type": "markdown",
   "metadata": {},
   "source": [
    "## Adding in Our Dynamic Function\n",
    "Now that we have illustrated that our modified script runs the same as Scikit-Learn's we need to replace the default learning rate of 0.01 with  our dynamic function.  To do this, we will define a new function which uses our beta approximation.  Next, we will monkey patch that function into the dynamic_GBT_regressor script.  Now we can run the model as before."
   ]
  },
  {
   "cell_type": "code",
   "execution_count": 40,
   "metadata": {
    "collapsed": true
   },
   "outputs": [],
   "source": [
    "def function(i):\n",
    "    scalar = 2\n",
    "    a = 26\n",
    "    b = 1\n",
    "    scale = 80\n",
    "    loc = -68\n",
    "    x = scalar*beta.pdf(i, a=a, b=b, scale=scale, loc=loc) + 0.01\n",
    "    return x\n",
    "\n",
    "dgbt.function = function"
   ]
  },
  {
   "cell_type": "code",
   "execution_count": null,
   "metadata": {
    "collapsed": true
   },
   "outputs": [],
   "source": [
    "rnd_reg = dgbt.GradientBoostingRegressor(max_depth=2,\n",
    "                                    n_estimators=5000,\n",
    "                                    subsample = .9)\n",
    "rnd_reg.fit(X_train,y_train)\n",
    "predictions = rnd_reg.predict(X_test)\n",
    "dynamic_test_score = np.zeros((n_est,), dtype=np.float64)\n",
    "\n",
    "for i, y_pred in enumerate(rnd_reg.staged_predict(X_test)):\n",
    "    dynamic_test_score[i] = (np.mean((y_test - y_pred)**2))"
   ]
  },
  {
   "cell_type": "markdown",
   "metadata": {},
   "source": [
    "## Model Comparison"
   ]
  },
  {
   "cell_type": "code",
   "execution_count": 41,
   "metadata": {},
   "outputs": [
    {
     "data": {
      "image/png": "[encoded data removed]",
      "text/plain": [
       "<matplotlib.figure.Figure at 0x1e0205dd550>"
      ]
     },
     "metadata": {},
     "output_type": "display_data"
    }
   ],
   "source": [
    "plt.plot(test_score, label = \"Sklearn's Stochastic GBT\", color = 'red')\n",
    "plt.plot(dynamic_test_score, label = 'Dynamic GBT',\n",
    "         color = 'blue', linestyle = 'dashed')\n",
    "plt.xlim(0,5000)\n",
    "plt.legend()\n",
    "plt.title('Test Set MSE')\n",
    "plt.show()"
   ]
  },
  {
   "cell_type": "markdown",
   "metadata": {},
   "source": [
    "The graph above shows our dynamic function's performance against that of the static learning rate.  Our function clearly converges much faster and, unlike the MCMC sampled learning rates, it did not overfit the data. Using the dynamic GBT script, one could easily try many different functions and tune the parameters using grid search or Bayesian optimization just like any other parameter in a model. "
   ]
  },
  {
   "cell_type": "markdown",
   "metadata": {},
   "source": [
    "# Conclusion\n",
    "This concludes our look at Gradient Boosted Trees.  In these notebooks we went from a basic algorithm to an overview of our own variation which can bring increased speed and performance.  Thank you for reading!"
   ]
  }
 ],
 "metadata": {
  "kernelspec": {
   "display_name": "Python 3",
   "language": "python",
   "name": "python3"
  },
  "language_info": {
   "codemirror_mode": {
    "name": "ipython",
    "version": 3
   },
   "file_extension": ".py",
   "mimetype": "text/x-python",
   "name": "python",
   "nbconvert_exporter": "python",
   "pygments_lexer": "ipython3",
   "version": "3.6.3"
  }
 },
 "nbformat": 4,
 "nbformat_minor": 2
}
