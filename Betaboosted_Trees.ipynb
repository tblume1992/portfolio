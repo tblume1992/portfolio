{
 "cells": [
  {
   "cell_type": "markdown",
   "metadata": {},
   "source": [
    "This notebook aims to go through a basic implementation of the gradient boosting algorithm with a Bayesian twist, using decision trees as our base estimator.  First we need to import "
   ]
  },
  {
   "cell_type": "code",
   "execution_count": 1,
   "metadata": {},
   "outputs": [],
   "source": [
    "from sklearn.utils import resample\n",
    "import pandas as pd\n",
    "import numpy as np\n",
    "import matplotlib.pyplot as plt\n",
    "from sklearn import datasets\n",
    "from sklearn.utils import shuffle,resample\n",
    "from scipy.stats import beta\n"
   ]
  },
  {
   "attachments": {},
   "cell_type": "markdown",
   "metadata": {},
   "source": [
    "![Oops Something is wrong](beta_approximation.png \"Beta Approximation\")"
   ]
  },
  {
   "cell_type": "markdown",
   "metadata": {},
   "source": [
    "![Oops Something is wrong](comparison.png \"Beta Approximation\")"
   ]
  },
  {
   "cell_type": "code",
   "execution_count": 2,
   "metadata": {
    "collapsed": true
   },
   "outputs": [],
   "source": [
    "boston = datasets.load_boston()\n",
    "X, y = shuffle(boston.data, boston.target, random_state=13)\n",
    "X = X.astype(np.float32)\n",
    "offset = int(X.shape[0] * .9)\n",
    "X_train, y_train = X[:offset], y[:offset]\n",
    "X_test, y_test = X[offset:], y[offset:]\n",
    "xi = X_train\n",
    "yi = y_train"
   ]
  },
  {
   "cell_type": "code",
   "execution_count": 3,
   "metadata": {},
   "outputs": [],
   "source": [
    "import beta_boosting as bb\n",
    "rnd_reg = bb.GradientBoostingRegressor(max_depth=2,\n",
    "                                    n_estimators=5000,\n",
    "                                    subsample = .9,\n",
    "                                    learning_rate=.01)\n",
    "rnd_reg.fit(X_train,y_train)\n",
    "predictions = rnd_reg.predict(X_test)\n",
    "beta_test_score = np.zeros((5000,), dtype=np.float64)\n",
    "\n",
    "for i, y_pred in enumerate(rnd_reg.staged_predict(X_test)):\n",
    "    beta_test_score[i] = (np.mean((y_test - y_pred)**2))"
   ]
  },
  {
   "cell_type": "code",
   "execution_count": 4,
   "metadata": {},
   "outputs": [
    {
     "data": {
      "image/png": "[encoded data removed]",
      "text/plain": [
       "<matplotlib.figure.Figure at 0x255c7dfb198>"
      ]
     },
     "metadata": {},
     "output_type": "display_data"
    }
   ],
   "source": [
    "from sklearn.ensemble import GradientBoostingRegressor\n",
    "n_est = 5000\n",
    "rnd_reg = GradientBoostingRegressor(max_depth=2,\n",
    "                                    n_estimators=n_est,\n",
    "                                    subsample = .9,\n",
    "                                    learning_rate=.01)\n",
    "rnd_reg.fit(X_train,y_train)\n",
    "predictions = rnd_reg.predict(X_test)\n",
    "test_score = np.zeros((n_est,), dtype=np.float64)\n",
    "\n",
    "for i, y_pred in enumerate(rnd_reg.staged_predict(X_test)):\n",
    "    test_score[i] = (np.mean((y_test - y_pred)**2))\n",
    "\n",
    "    \n",
    "\n",
    "plt.plot(test_score, label = \"Sklearn's Stochastic GBT\", color = 'red')\n",
    "plt.plot(beta_test_score, label = 'Beta GBT',\n",
    "         color = 'blue', linestyle = 'dashed')\n",
    "plt.xlim(0,5000)\n",
    "plt.legend()\n",
    "plt.title('Test Set MSE')\n",
    "plt.show()"
   ]
  },
  {
   "cell_type": "code",
   "execution_count": 5,
   "metadata": {},
   "outputs": [],
   "source": [
    "def function(i):\n",
    "    scalar = 2\n",
    "    a = 26\n",
    "    b = 1\n",
    "    scale = 80\n",
    "    loc = -68\n",
    "    x = scalar*beta.pdf(i, a=a, b=b, scale=scale, loc=-68) + 0.01\n",
    "    return x\n",
    "\n",
    "bb.function = function\n",
    "rnd_reg = bb.GradientBoostingRegressor(max_depth=2,\n",
    "                                    n_estimators=5000,\n",
    "                                    subsample = .9)\n",
    "rnd_reg.fit(X_train,y_train)\n",
    "predictions = rnd_reg.predict(X_test)\n",
    "beta_test_score = np.zeros((n_est,), dtype=np.float64)\n",
    "\n",
    "for i, y_pred in enumerate(rnd_reg.staged_predict(X_test)):\n",
    "    beta_test_score[i] = (np.mean((y_test - y_pred)**2))"
   ]
  },
  {
   "cell_type": "code",
   "execution_count": 6,
   "metadata": {},
   "outputs": [
    {
     "data": {
      "image/png": "[encoded data removed]",
      "text/plain": [
       "<matplotlib.figure.Figure at 0x255c9af0c88>"
      ]
     },
     "metadata": {},
     "output_type": "display_data"
    }
   ],
   "source": [
    "plt.plot(test_score, label = \"Sklearn's Stochastic GBT\", color = 'red')\n",
    "plt.plot(beta_test_score, label = 'Betaboosted Trees',\n",
    "         color = 'blue', linestyle = 'dashed')\n",
    "plt.xlim(0,5000)\n",
    "plt.legend()\n",
    "plt.title('Test Set RMSE')\n",
    "plt.show()"
   ]
  }
 ],
 "metadata": {
  "kernelspec": {
   "display_name": "Python 3",
   "language": "python",
   "name": "python3"
  },
  "language_info": {
   "codemirror_mode": {
    "name": "ipython",
    "version": 3
   },
   "file_extension": ".py",
   "mimetype": "text/x-python",
   "name": "python",
   "nbconvert_exporter": "python",
   "pygments_lexer": "ipython3",
   "version": "3.6.3"
  }
 },
 "nbformat": 4,
 "nbformat_minor": 2
}
